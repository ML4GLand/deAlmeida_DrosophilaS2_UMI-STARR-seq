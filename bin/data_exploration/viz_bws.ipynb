{
 "cells": [
  {
   "attachments": {},
   "cell_type": "markdown",
   "metadata": {},
   "source": [
    "# Set-up"
   ]
  },
  {
   "cell_type": "code",
   "execution_count": 5,
   "metadata": {},
   "outputs": [],
   "source": [
    "import pygenometracks.tracks as pygtk\n",
    "import matplotlib.pyplot as plt\n",
    "import os\n",
    "import numpy as np\n",
    "import pandas as pd\n",
    "\n",
    "import os as _os\n",
    "import sys as _sys\n",
    "try:\n",
    "    _bin_dir = _os.path.dirname(_sys.executable)\n",
    "    _os.environ[\"PATH\"] += _os.pathsep + _bin_dir\n",
    "    from pybedtools import paths as _paths\n",
    "    _paths._set_bedtools_path(_bin_dir)\n",
    "except ImportError:\n",
    "    raise ImportError(\n",
    "        \"Please install pybedtools (pip install pybedtools)\"\n",
    "    )"
   ]
  },
  {
   "attachments": {},
   "cell_type": "markdown",
   "metadata": {},
   "source": [
    "# Peaks"
   ]
  },
  {
   "cell_type": "code",
   "execution_count": null,
   "metadata": {},
   "outputs": [
    {
     "data": {
      "text/html": [
       "<div>\n",
       "<style scoped>\n",
       "    .dataframe tbody tr th:only-of-type {\n",
       "        vertical-align: middle;\n",
       "    }\n",
       "\n",
       "    .dataframe tbody tr th {\n",
       "        vertical-align: top;\n",
       "    }\n",
       "\n",
       "    .dataframe thead th {\n",
       "        text-align: right;\n",
       "    }\n",
       "</style>\n",
       "<table border=\"1\" class=\"dataframe\">\n",
       "  <thead>\n",
       "    <tr style=\"text-align: right;\">\n",
       "      <th></th>\n",
       "      <th>chr</th>\n",
       "      <th>summit</th>\n",
       "      <th>STARR-seq reads summit</th>\n",
       "      <th>input reads summit</th>\n",
       "      <th>STARR-seq reads total</th>\n",
       "      <th>input reads total</th>\n",
       "      <th>Enrichment (STARR-seq/input)</th>\n",
       "      <th>Corrected enrichment</th>\n",
       "      <th>p-value</th>\n",
       "    </tr>\n",
       "  </thead>\n",
       "  <tbody>\n",
       "    <tr>\n",
       "      <th>0</th>\n",
       "      <td>chr2R</td>\n",
       "      <td>17033339</td>\n",
       "      <td>6487</td>\n",
       "      <td>95</td>\n",
       "      <td>7256399</td>\n",
       "      <td>37810722</td>\n",
       "      <td>355.807</td>\n",
       "      <td>293.692482</td>\n",
       "      <td>0.0</td>\n",
       "    </tr>\n",
       "    <tr>\n",
       "      <th>1</th>\n",
       "      <td>chr3R</td>\n",
       "      <td>2902523</td>\n",
       "      <td>4462</td>\n",
       "      <td>78</td>\n",
       "      <td>7256399</td>\n",
       "      <td>37810722</td>\n",
       "      <td>298.077</td>\n",
       "      <td>240.699817</td>\n",
       "      <td>0.0</td>\n",
       "    </tr>\n",
       "    <tr>\n",
       "      <th>2</th>\n",
       "      <td>chr3L</td>\n",
       "      <td>8520775</td>\n",
       "      <td>5097</td>\n",
       "      <td>93</td>\n",
       "      <td>7256399</td>\n",
       "      <td>37810722</td>\n",
       "      <td>285.578</td>\n",
       "      <td>234.669679</td>\n",
       "      <td>0.0</td>\n",
       "    </tr>\n",
       "    <tr>\n",
       "      <th>3</th>\n",
       "      <td>chr2R</td>\n",
       "      <td>20148328</td>\n",
       "      <td>3082</td>\n",
       "      <td>64</td>\n",
       "      <td>7256399</td>\n",
       "      <td>37810722</td>\n",
       "      <td>250.926</td>\n",
       "      <td>197.692566</td>\n",
       "      <td>0.0</td>\n",
       "    </tr>\n",
       "    <tr>\n",
       "      <th>4</th>\n",
       "      <td>chr2R</td>\n",
       "      <td>12017573</td>\n",
       "      <td>4967</td>\n",
       "      <td>111</td>\n",
       "      <td>7256399</td>\n",
       "      <td>37810722</td>\n",
       "      <td>233.166</td>\n",
       "      <td>194.361392</td>\n",
       "      <td>0.0</td>\n",
       "    </tr>\n",
       "  </tbody>\n",
       "</table>\n",
       "</div>"
      ],
      "text/plain": [
       "     chr    summit  STARR-seq reads summit  input reads summit  \\\n",
       "0  chr2R  17033339                    6487                  95   \n",
       "1  chr3R   2902523                    4462                  78   \n",
       "2  chr3L   8520775                    5097                  93   \n",
       "3  chr2R  20148328                    3082                  64   \n",
       "4  chr2R  12017573                    4967                 111   \n",
       "\n",
       "   STARR-seq reads total  input reads total  Enrichment (STARR-seq/input)  \\\n",
       "0                7256399           37810722                       355.807   \n",
       "1                7256399           37810722                       298.077   \n",
       "2                7256399           37810722                       285.578   \n",
       "3                7256399           37810722                       250.926   \n",
       "4                7256399           37810722                       233.166   \n",
       "\n",
       "   Corrected enrichment  p-value  \n",
       "0            293.692482      0.0  \n",
       "1            240.699817      0.0  \n",
       "2            234.669679      0.0  \n",
       "3            197.692566      0.0  \n",
       "4            194.361392      0.0  "
      ]
     },
     "metadata": {},
     "output_type": "display_data"
    }
   ],
   "source": [
    "dev_peaks = pd.read_csv(\"/cellar/users/aklie/data/datasets/deAlmeida_DrosophilaS2_UMI-STARR-seq/analysis/2023_12_11/geo/GSE183936_S2_dev_STARRseq_merged.peaks.txt.gz\", sep=\"\\t\")\n",
    "dev_peaks.head()"
   ]
  },
  {
   "cell_type": "code",
   "execution_count": null,
   "metadata": {},
   "outputs": [
    {
     "data": {
      "text/html": [
       "<div>\n",
       "<style scoped>\n",
       "    .dataframe tbody tr th:only-of-type {\n",
       "        vertical-align: middle;\n",
       "    }\n",
       "\n",
       "    .dataframe tbody tr th {\n",
       "        vertical-align: top;\n",
       "    }\n",
       "\n",
       "    .dataframe thead th {\n",
       "        text-align: right;\n",
       "    }\n",
       "</style>\n",
       "<table border=\"1\" class=\"dataframe\">\n",
       "  <thead>\n",
       "    <tr style=\"text-align: right;\">\n",
       "      <th></th>\n",
       "      <th>chr</th>\n",
       "      <th>summit</th>\n",
       "      <th>STARR-seq reads summit</th>\n",
       "      <th>input reads summit</th>\n",
       "      <th>STARR-seq reads total</th>\n",
       "      <th>input reads total</th>\n",
       "      <th>Enrichment (STARR-seq/input)</th>\n",
       "      <th>Corrected enrichment</th>\n",
       "      <th>p-value</th>\n",
       "    </tr>\n",
       "  </thead>\n",
       "  <tbody>\n",
       "    <tr>\n",
       "      <th>0</th>\n",
       "      <td>chr3LHet</td>\n",
       "      <td>369838</td>\n",
       "      <td>2560</td>\n",
       "      <td>40</td>\n",
       "      <td>13093795</td>\n",
       "      <td>51083440</td>\n",
       "      <td>249.686</td>\n",
       "      <td>185.659516</td>\n",
       "      <td>0.0</td>\n",
       "    </tr>\n",
       "    <tr>\n",
       "      <th>1</th>\n",
       "      <td>chrX</td>\n",
       "      <td>15033431</td>\n",
       "      <td>4720</td>\n",
       "      <td>81</td>\n",
       "      <td>13093795</td>\n",
       "      <td>51083440</td>\n",
       "      <td>227.338</td>\n",
       "      <td>184.351401</td>\n",
       "      <td>0.0</td>\n",
       "    </tr>\n",
       "    <tr>\n",
       "      <th>2</th>\n",
       "      <td>chr3R</td>\n",
       "      <td>27894243</td>\n",
       "      <td>6371</td>\n",
       "      <td>118</td>\n",
       "      <td>13093795</td>\n",
       "      <td>51083440</td>\n",
       "      <td>210.640</td>\n",
       "      <td>176.911069</td>\n",
       "      <td>0.0</td>\n",
       "    </tr>\n",
       "    <tr>\n",
       "      <th>3</th>\n",
       "      <td>chrX</td>\n",
       "      <td>18757849</td>\n",
       "      <td>2804</td>\n",
       "      <td>53</td>\n",
       "      <td>13093795</td>\n",
       "      <td>51083440</td>\n",
       "      <td>206.403</td>\n",
       "      <td>159.080016</td>\n",
       "      <td>0.0</td>\n",
       "    </tr>\n",
       "    <tr>\n",
       "      <th>4</th>\n",
       "      <td>chrX</td>\n",
       "      <td>11348473</td>\n",
       "      <td>3512</td>\n",
       "      <td>69</td>\n",
       "      <td>13093795</td>\n",
       "      <td>51083440</td>\n",
       "      <td>198.573</td>\n",
       "      <td>157.949275</td>\n",
       "      <td>0.0</td>\n",
       "    </tr>\n",
       "  </tbody>\n",
       "</table>\n",
       "</div>"
      ],
      "text/plain": [
       "        chr    summit  STARR-seq reads summit  input reads summit  \\\n",
       "0  chr3LHet    369838                    2560                  40   \n",
       "1      chrX  15033431                    4720                  81   \n",
       "2     chr3R  27894243                    6371                 118   \n",
       "3      chrX  18757849                    2804                  53   \n",
       "4      chrX  11348473                    3512                  69   \n",
       "\n",
       "   STARR-seq reads total  input reads total  Enrichment (STARR-seq/input)  \\\n",
       "0               13093795           51083440                       249.686   \n",
       "1               13093795           51083440                       227.338   \n",
       "2               13093795           51083440                       210.640   \n",
       "3               13093795           51083440                       206.403   \n",
       "4               13093795           51083440                       198.573   \n",
       "\n",
       "   Corrected enrichment  p-value  \n",
       "0            185.659516      0.0  \n",
       "1            184.351401      0.0  \n",
       "2            176.911069      0.0  \n",
       "3            159.080016      0.0  \n",
       "4            157.949275      0.0  "
      ]
     },
     "metadata": {},
     "output_type": "display_data"
    }
   ],
   "source": [
    "hk_peaks = pd.read_csv(\"/cellar/users/aklie/data/datasets/deAlmeida_DrosophilaS2_UMI-STARR-seq/analysis/2023_12_11/geo/GSE183936_S2_hk_STARRseq_merged.peaks.txt.gz\", sep=\"\\t\")\n",
    "hk_peaks.head()"
   ]
  },
  {
   "cell_type": "code",
   "execution_count": null,
   "metadata": {},
   "outputs": [
    {
     "data": {
      "text/plain": [
       "19732"
      ]
     },
     "metadata": {},
     "output_type": "display_data"
    }
   ],
   "source": [
    "len(pd.read_csv(\"/cellar/users/aklie/data/datasets/deAlmeida_DrosophilaS2_UMI-STARR-seq/analysis/2023_12_11/starklab/DSCP_200bp_gw.UMI_cut_merged.peaks.txt\", sep=\"\\t\", header=None))"
   ]
  },
  {
   "cell_type": "code",
   "execution_count": null,
   "metadata": {},
   "outputs": [
    {
     "data": {
      "text/plain": [
       "9436"
      ]
     },
     "metadata": {},
     "output_type": "display_data"
    }
   ],
   "source": [
    "len(pd.read_csv(\"/cellar/users/aklie/data/datasets/deAlmeida_DrosophilaS2_UMI-STARR-seq/analysis/2023_12_11/starklab/RpS12_200bp_gw.UMI_cut_merged.peaks.txt\", sep=\"\\t\", header=None))"
   ]
  },
  {
   "attachments": {},
   "cell_type": "markdown",
   "metadata": {},
   "source": [
    "# BigWig plotting"
   ]
  },
  {
   "cell_type": "code",
   "execution_count": null,
   "metadata": {},
   "outputs": [],
   "source": [
    "# Region to plot\n",
    "extension = 1000\n",
    "chrom, start, end = 'chr3R', 27894243 - extension, 27894243 + extension"
   ]
  },
  {
   "cell_type": "code",
   "execution_count": null,
   "metadata": {},
   "outputs": [
    {
     "data": {
      "image/png": "[encoded data removed]",
      "text/plain": [
       "<Figure size 1152x648 with 4 Axes>"
      ]
     },
     "metadata": {},
     "output_type": "display_data"
    }
   ],
   "source": [
    "fig, ax = plt.subplots(4, 1, figsize=(16, 9), sharex=True, sharey=False)\n",
    "dev_config = dict(file=\"/cellar/users/aklie/data/datasets/deAlmeida_DrosophilaS2_UMI-STARR-seq/analysis/2023_12_11/geo/GSE183936_S2_dev_STARRseq_merged.bw\", region=[(chrom, start, end)], color=\"orange\")\n",
    "dev_track = pygtk.BigWigTrack(dev_config)\n",
    "dev_track.plot(ax[0], chrom, start, end)\n",
    "ax[0].set_ylabel(\"Dev\", color=\"orange\")\n",
    "ax[0].set_xlabel(\"\")\n",
    "ax[0].spines['right'].set_visible(False)\n",
    "ax[0].spines['top'].set_visible(False)\n",
    "ax[0].spines['bottom'].set_visible(False)\n",
    "ax[0].tick_params(axis='x', which='both', bottom=False, top=False, labelbottom=False)\n",
    "ax[0].xticklabels = []\n",
    "\n",
    "hk_config = dict(file=\"/cellar/users/aklie/data/datasets/deAlmeida_DrosophilaS2_UMI-STARR-seq/analysis/2023_12_11/geo/GSE183936_S2_hk_STARRseq_merged.bw\", region=[(chrom, start, end)], color=\"blue\")\n",
    "hk_track = pygtk.BigWigTrack(hk_config)\n",
    "hk_track.plot(ax[1], chrom, start, end)\n",
    "ax[1].set_ylabel(\"HK\", color=\"blue\")\n",
    "ax[1].set_xlabel(\"\")\n",
    "ax[1].spines['right'].set_visible(False)\n",
    "ax[1].spines['top'].set_visible(False)\n",
    "ax[1].spines['bottom'].set_visible(False)\n",
    "ax[1].tick_params(axis='x', which='both', bottom=False, top=False, labelbottom=True)\n",
    "ax[1].xticklabels = []\n",
    "\n",
    "dev_pred_config = dict(file=\"/cellar/users/aklie/data/datasets/deAlmeida_DrosophilaS2_UMI-STARR-seq/analysis/2023_12_11/starklab/DeepSTARR_dm3_sliding_window_prediction_dev.bw\", region=[(chrom, start, end)], color=\"orange\")\n",
    "dev_pred_track = pygtk.BigWigTrack(dev_pred_config)\n",
    "dev_pred_track.plot(ax[2], chrom, start, end)\n",
    "ax[2].set_ylabel(\"DeepSTARR Dev\", color=\"orange\")\n",
    "ax[2].set_xlabel(\"\")\n",
    "ax[2].spines['right'].set_visible(False)\n",
    "ax[2].spines['top'].set_visible(False)\n",
    "ax[2].spines['bottom'].set_visible(False)\n",
    "ax[2].tick_params(axis='x', which='both', bottom=False, top=False, labelbottom=True)\n",
    "ax[2].xticklabels = []\n",
    "\n",
    "hk_pred_config = dict(file=\"/cellar/users/aklie/data/datasets/deAlmeida_DrosophilaS2_UMI-STARR-seq/analysis/2023_12_11/starklab/DeepSTARR_dm3_sliding_window_prediction_hk.bw\", region=[(chrom, start, end)], color=\"blue\")\n",
    "hk_pred_track = pygtk.BigWigTrack(hk_pred_config)\n",
    "hk_pred_track.plot(ax[3], chrom, start, end)\n",
    "ax[3].set_ylabel(\"DeepSTARR HK\", color=\"blue\")\n",
    "ax[3].set_xlabel(\"\")\n",
    "ax[3].spines['right'].set_visible(False)\n",
    "ax[3].spines['top'].set_visible(False)\n",
    "ax[3].spines['bottom'].set_visible(False)\n",
    "ax[3].tick_params(axis='x', which='both', bottom=False, top=False, labelbottom=True)\n",
    "ax[3].xticklabels = []"
   ]
  },
  {
   "cell_type": "code",
   "execution_count": null,
   "metadata": {},
   "outputs": [],
   "source": [
    "# Region to plot from paper\n",
    "extension = 1000\n",
    "chrom, start, end = 'chr2R', 13522605 - extension, 13575354 + extension"
   ]
  },
  {
   "cell_type": "code",
   "execution_count": 4,
   "metadata": {},
   "outputs": [
    {
     "data": {
      "image/png": "[encoded data removed]",
      "text/plain": [
       "<Figure size 1152x648 with 4 Axes>"
      ]
     },
     "metadata": {
      "needs_background": "light"
     },
     "output_type": "display_data"
    }
   ],
   "source": [
    "fig, ax = plt.subplots(4, 1, figsize=(16, 9), sharex=True, sharey=False)\n",
    "dev_config = dict(file=\"/cellar/users/aklie/data/datasets/deAlmeida_DrosophilaS2_UMI-STARR-seq/analysis/2023_12_11/geo/GSE183936_S2_dev_STARRseq_merged.bw\", region=[(chrom, start, end)], color=\"orange\")\n",
    "dev_track = pygtk.BigWigTrack(dev_config)\n",
    "dev_track.plot(ax[0], chrom, start, end)\n",
    "ax[0].set_ylabel(\"Dev\", color=\"orange\")\n",
    "ax[0].set_xlabel(\"\")\n",
    "ax[0].spines['right'].set_visible(False)\n",
    "ax[0].spines['top'].set_visible(False)\n",
    "ax[0].spines['bottom'].set_visible(False)\n",
    "ax[0].tick_params(axis='x', which='both', bottom=False, top=False, labelbottom=False)\n",
    "ax[0].xticklabels = []\n",
    "\n",
    "hk_config = dict(file=\"/cellar/users/aklie/data/datasets/deAlmeida_DrosophilaS2_UMI-STARR-seq/analysis/2023_12_11/geo/GSE183936_S2_hk_STARRseq_merged.bw\", region=[(chrom, start, end)], color=\"blue\")\n",
    "hk_track = pygtk.BigWigTrack(hk_config)\n",
    "hk_track.plot(ax[1], chrom, start, end)\n",
    "ax[1].set_ylabel(\"HK\", color=\"blue\")\n",
    "ax[1].set_xlabel(\"\")\n",
    "ax[1].spines['right'].set_visible(False)\n",
    "ax[1].spines['top'].set_visible(False)\n",
    "ax[1].spines['bottom'].set_visible(False)\n",
    "ax[1].tick_params(axis='x', which='both', bottom=False, top=False, labelbottom=True)\n",
    "ax[1].xticklabels = []\n",
    "\n",
    "dev_pred_config = dict(file=\"/cellar/users/aklie/data/datasets/deAlmeida_DrosophilaS2_UMI-STARR-seq/analysis/2023_12_11/starklab/DeepSTARR_dm3_sliding_window_prediction_dev.bw\", region=[(chrom, start, end)], color=\"orange\")\n",
    "dev_pred_track = pygtk.BigWigTrack(dev_pred_config)\n",
    "dev_pred_track.plot(ax[2], chrom, start, end)\n",
    "ax[2].set_ylabel(\"DeepSTARR Dev\", color=\"orange\")\n",
    "ax[2].set_xlabel(\"\")\n",
    "ax[2].spines['right'].set_visible(False)\n",
    "ax[2].spines['top'].set_visible(False)\n",
    "ax[2].spines['bottom'].set_visible(False)\n",
    "ax[2].tick_params(axis='x', which='both', bottom=False, top=False, labelbottom=True)\n",
    "ax[2].xticklabels = []\n",
    "\n",
    "hk_pred_config = dict(file=\"/cellar/users/aklie/data/datasets/deAlmeida_DrosophilaS2_UMI-STARR-seq/analysis/2023_12_11/starklab/DeepSTARR_dm3_sliding_window_prediction_hk.bw\", region=[(chrom, start, end)], color=\"blue\")\n",
    "hk_pred_track = pygtk.BigWigTrack(hk_pred_config)\n",
    "hk_pred_track.plot(ax[3], chrom, start, end)\n",
    "ax[3].set_ylabel(\"DeepSTARR HK\", color=\"blue\")\n",
    "ax[3].set_xlabel(\"\")\n",
    "ax[3].spines['right'].set_visible(False)\n",
    "ax[3].spines['top'].set_visible(False)\n",
    "ax[3].spines['bottom'].set_visible(False)\n",
    "ax[3].tick_params(axis='x', which='both', bottom=False, top=False, labelbottom=True)\n",
    "ax[3].xticklabels = []"
   ]
  },
  {
   "attachments": {},
   "cell_type": "markdown",
   "metadata": {},
   "source": [
    "# DONE!"
   ]
  },
  {
   "attachments": {},
   "cell_type": "markdown",
   "metadata": {},
   "source": [
    "---"
   ]
  }
 ],
 "metadata": {
  "kernelspec": {
   "display_name": "Python 3.7 visualize",
   "language": "python",
   "name": "visualize"
  },
  "language_info": {
   "codemirror_mode": {
    "name": "ipython",
    "version": 3
   },
   "file_extension": ".py",
   "mimetype": "text/x-python",
   "name": "python",
   "nbconvert_exporter": "python",
   "pygments_lexer": "ipython3",
   "version": "3.7.12"
  },
  "orig_nbformat": 4
 },
 "nbformat": 4,
 "nbformat_minor": 2
}
