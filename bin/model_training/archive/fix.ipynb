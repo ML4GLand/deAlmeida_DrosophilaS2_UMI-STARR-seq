{
 "cells": [
  {
   "attachments": {},
   "cell_type": "markdown",
   "metadata": {},
   "source": [
    "# Set-up"
   ]
  },
  {
   "cell_type": "code",
   "execution_count": 2,
   "metadata": {},
   "outputs": [
    {
     "data": {
      "text/plain": [
       "'/cellar/users/aklie/projects/ML4GLand/issues/41'"
      ]
     },
     "execution_count": 2,
     "metadata": {},
     "output_type": "execute_result"
    }
   ],
   "source": [
    "# Change this to where you would like to save all your results\n",
    "import os\n",
    "os.chdir(\"/cellar/users/aklie/projects/ML4GLand/issues/41\")  # TODO: change this to your own directory\n",
    "cwd = os.getcwd()\n",
    "cwd"
   ]
  },
  {
   "cell_type": "code",
   "execution_count": 3,
   "metadata": {},
   "outputs": [],
   "source": [
    "# Configure EUGENe directories, if you do not set these, EUGENe will use the default directories\n",
    "from eugene import settings\n",
    "settings.logging_dir = \"./tutorial_logs\" # Directory where EUGENe will save Tensorboard training logs and model checkpoints to\n",
    "settings.output_dir = \"./tutorial_output\" # Directory where EUGENe will save output files to"
   ]
  },
  {
   "attachments": {},
   "cell_type": "markdown",
   "metadata": {},
   "source": [
    "# Data loading"
   ]
  },
  {
   "cell_type": "code",
   "execution_count": 33,
   "metadata": {},
   "outputs": [],
   "source": [
    "# Data libraries\n",
    "import seqdatasets\n",
    "import pandas as pd\n",
    "import xarray as xr"
   ]
  },
  {
   "cell_type": "code",
   "execution_count": 44,
   "metadata": {},
   "outputs": [
    {
     "name": "stdout",
     "output_type": "stream",
     "text": [
      "Dataset deAlmeida22 Sequences_Train.fa has already been downloaded.\n",
      "Dataset deAlmeida22 Sequences_activity_Train.txt has already been downloaded.\n",
      "Zarr file found. Opening existing zarr file.\n",
      "Dataset deAlmeida22 Sequences_Val.fa has already been downloaded.\n",
      "Dataset deAlmeida22 Sequences_activity_Val.txt has already been downloaded.\n",
      "Zarr file found. Opening existing zarr file.\n",
      "Dataset deAlmeida22 Sequences_Test.fa has already been downloaded.\n",
      "Dataset deAlmeida22 Sequences_activity_Test.txt has already been downloaded.\n",
      "Zarr file found. Opening existing zarr file.\n"
     ]
    }
   ],
   "source": [
    "# Load sdatas from seqdatasets\n",
    "sdata_train = seqdatasets.deAlmeida22(dataset='train')\n",
    "sdata_val = seqdatasets.deAlmeida22(dataset='val')\n",
    "sdata_test = seqdatasets.deAlmeida22(dataset='test')\n",
    "\n",
    "# Add metadata to sdata\n",
    "train_metadata = pd.read_csv(\"/cellar/users/aklie/projects/ML4GLand/issues/41/eugene_data/deAlmeida22/Sequences_activity_Train.txt\", sep=\"\\t\")\n",
    "train_meta_xr = xr.Dataset.from_dataframe(train_metadata)\n",
    "train_meta_xr = train_meta_xr.drop_vars(\"index\").rename_dims({\"index\": \"_sequence\"}).assign(_sequence=sdata_train[\"_sequence\"])\n",
    "sdata_train = sdata_train.merge(train_meta_xr)\n",
    "val_metadata = pd.read_csv(\"/cellar/users/aklie/projects/ML4GLand/issues/41/eugene_data/deAlmeida22/Sequences_activity_Val.txt\", sep=\"\\t\")\n",
    "val_meta_xr = xr.Dataset.from_dataframe(val_metadata)\n",
    "val_meta_xr = val_meta_xr.drop_vars(\"index\").rename_dims({\"index\": \"_sequence\"}).assign(_sequence=sdata_val[\"_sequence\"])\n",
    "sdata_val = sdata_val.merge(val_meta_xr)\n",
    "test_metadata = pd.read_csv(\"/cellar/users/aklie/projects/ML4GLand/issues/41/eugene_data/deAlmeida22/Sequences_activity_Test.txt\", sep=\"\\t\")\n",
    "test_meta_xr = xr.Dataset.from_dataframe(test_metadata)\n",
    "test_meta_xr = test_meta_xr.drop_vars(\"index\").rename_dims({\"index\": \"_sequence\"}).assign(_sequence=sdata_test[\"_sequence\"])\n",
    "sdata_test = sdata_test.merge(test_meta_xr)\n",
    "\n",
    "# Load into memory for faster training\n",
    "sdata_train = sdata_train.load()\n",
    "sdata_val = sdata_val.load()\n",
    "sdata_test = sdata_test.load()"
   ]
  },
  {
   "attachments": {},
   "cell_type": "markdown",
   "metadata": {},
   "source": [
    "# Data preprocessing"
   ]
  },
  {
   "cell_type": "code",
   "execution_count": 45,
   "metadata": {},
   "outputs": [],
   "source": [
    "# Preprocessing library\n",
    "from eugene import preprocess as pp"
   ]
  },
  {
   "cell_type": "code",
   "execution_count": 46,
   "metadata": {},
   "outputs": [],
   "source": [
    "# One hot encode all the sequences in the sdata using the wrapper function\n",
    "pp.ohe_seqs_sdata(sdata_train, alphabet=\"DNA\")\n",
    "pp.ohe_seqs_sdata(sdata_val, alphabet=\"DNA\")\n",
    "pp.ohe_seqs_sdata(sdata_test, alphabet=\"DNA\")\n",
    "\n",
    "# Make unique ids for each sequence in the sdata\n",
    "pp.make_unique_ids_sdata(sdata_train)\n",
    "pp.make_unique_ids_sdata(sdata_val)\n",
    "pp.make_unique_ids_sdata(sdata_test)\n",
    "\n",
    "# Merge the sdata_train xarray with the sdata_val xarray\n",
    "sdata_train[\"train_val\"] = xr.DataArray([True] * len(sdata_train[\"_sequence\"]), dims=\"_sequence\")\n",
    "sdata_val[\"train_val\"] = xr.DataArray([False] * len(sdata_val[\"_sequence\"]), dims=\"_sequence\")\n",
    "sdata_training = xr.concat([sdata_train, sdata_val], dim=\"_sequence\")"
   ]
  },
  {
   "attachments": {},
   "cell_type": "markdown",
   "metadata": {},
   "source": [
    "# Model instantiation"
   ]
  },
  {
   "cell_type": "code",
   "execution_count": 47,
   "metadata": {},
   "outputs": [],
   "source": [
    "# Model libraries\n",
    "from eugene.models import zoo\n",
    "from eugene import models"
   ]
  },
  {
   "cell_type": "code",
   "execution_count": 48,
   "metadata": {},
   "outputs": [
    {
     "data": {
      "text/plain": [
       "SequenceModule(\n",
       "  (arch): DeepSTARR(\n",
       "    (conv1d_tower): Conv1DTower(\n",
       "      (layers): Sequential(\n",
       "        (0): Conv1d(4, 246, kernel_size=(7,), stride=(1,), padding=same)\n",
       "        (1): BatchNorm1d(246, eps=1e-05, momentum=0.1, affine=True, track_running_stats=True)\n",
       "        (2): ReLU()\n",
       "        (3): MaxPool1d(kernel_size=2, stride=1, padding=0, dilation=1, ceil_mode=False)\n",
       "        (4): Conv1d(246, 60, kernel_size=(3,), stride=(1,), padding=same)\n",
       "        (5): BatchNorm1d(60, eps=1e-05, momentum=0.1, affine=True, track_running_stats=True)\n",
       "        (6): ReLU()\n",
       "        (7): MaxPool1d(kernel_size=2, stride=1, padding=0, dilation=1, ceil_mode=False)\n",
       "        (8): Conv1d(60, 60, kernel_size=(5,), stride=(1,), padding=same)\n",
       "        (9): BatchNorm1d(60, eps=1e-05, momentum=0.1, affine=True, track_running_stats=True)\n",
       "        (10): ReLU()\n",
       "        (11): MaxPool1d(kernel_size=2, stride=1, padding=0, dilation=1, ceil_mode=False)\n",
       "        (12): Conv1d(60, 120, kernel_size=(3,), stride=(1,), padding=same)\n",
       "        (13): BatchNorm1d(120, eps=1e-05, momentum=0.1, affine=True, track_running_stats=True)\n",
       "        (14): ReLU()\n",
       "        (15): MaxPool1d(kernel_size=2, stride=1, padding=0, dilation=1, ceil_mode=False)\n",
       "      )\n",
       "    )\n",
       "    (dense_block): DenseBlock(\n",
       "      (layers): Sequential(\n",
       "        (0): Linear(in_features=29400, out_features=256, bias=True)\n",
       "        (1): BatchNorm1d(256, eps=1e-05, momentum=0.1, affine=True, track_running_stats=True)\n",
       "        (2): ReLU()\n",
       "        (3): Dropout(p=0.4, inplace=False)\n",
       "        (4): Linear(in_features=256, out_features=256, bias=True)\n",
       "        (5): BatchNorm1d(256, eps=1e-05, momentum=0.1, affine=True, track_running_stats=True)\n",
       "        (6): ReLU()\n",
       "        (7): Dropout(p=0.4, inplace=False)\n",
       "        (8): Linear(in_features=256, out_features=2, bias=True)\n",
       "      )\n",
       "    )\n",
       "  )\n",
       "  (train_metric): R2Score()\n",
       "  (val_metric): R2Score()\n",
       "  (test_metric): R2Score()\n",
       ")"
      ]
     },
     "execution_count": 48,
     "metadata": {},
     "output_type": "execute_result"
    }
   ],
   "source": [
    "# Instantiate the model\n",
    "model = zoo.DeepSTARR(\n",
    "    input_len=249,\n",
    "    output_dim=2\n",
    ")\n",
    "\n",
    "model = models.SequenceModule(\n",
    "    arch=model,\n",
    "    task=\"regression\", \n",
    "    loss_fxn= \"mse\",\n",
    "    scheduler='reduce_lr_on_plateau',\n",
    "    optimizer=\"adam\",\n",
    "    optimizer_lr=0.002,\n",
    "    optimizer_kwargs=dict(weight_decay=1e-6)\n",
    ")\n",
    "models.init_weights(model)\n",
    "model"
   ]
  },
  {
   "attachments": {},
   "cell_type": "markdown",
   "metadata": {},
   "source": [
    "# Model training"
   ]
  },
  {
   "cell_type": "code",
   "execution_count": 49,
   "metadata": {},
   "outputs": [],
   "source": [
    "# Training libraries\n",
    "from eugene import train\n",
    "import torch "
   ]
  },
  {
   "cell_type": "code",
   "execution_count": 50,
   "metadata": {},
   "outputs": [
    {
     "name": "stderr",
     "output_type": "stream",
     "text": [
      "[rank: 0] Global seed set to 1234\n"
     ]
    },
    {
     "name": "stdout",
     "output_type": "stream",
     "text": [
      "Dropping 0 sequences with NaN targets.\n",
      "Loading ohe_seq and ['Hk_log2_enrichment', 'Dev_log2_enrichment'] into memory\n"
     ]
    },
    {
     "name": "stderr",
     "output_type": "stream",
     "text": [
      "/cellar/users/aklie/opt/miniconda3/envs/ml4gland/lib/python3.9/site-packages/lightning_fabric/plugins/environments/slurm.py:165: PossibleUserWarning: The `srun` command is available on your system but is not used. HINT: If your intention is to run Lightning on SLURM, prepend your python command with `srun` like so: srun python /cellar/users/aklie/opt/miniconda3/envs/ml4gland/lib ...\n",
      "  rank_zero_warn(\n",
      "GPU available: True (cuda), used: True\n",
      "TPU available: False, using: 0 TPU cores\n",
      "IPU available: False, using: 0 IPUs\n",
      "HPU available: False, using: 0 HPUs\n",
      "/cellar/users/aklie/opt/miniconda3/envs/ml4gland/lib/python3.9/site-packages/lightning_fabric/plugins/environments/slurm.py:165: PossibleUserWarning: The `srun` command is available on your system but is not used. HINT: If your intention is to run Lightning on SLURM, prepend your python command with `srun` like so: srun python /cellar/users/aklie/opt/miniconda3/envs/ml4gland/lib ...\n",
      "  rank_zero_warn(\n",
      "LOCAL_RANK: 0 - CUDA_VISIBLE_DEVICES: [0]\n",
      "\n",
      "  | Name         | Type      | Params\n",
      "-------------------------------------------\n",
      "0 | arch         | DeepSTARR | 7.7 M \n",
      "1 | train_metric | R2Score   | 0     \n",
      "2 | val_metric   | R2Score   | 0     \n",
      "3 | test_metric  | R2Score   | 0     \n",
      "-------------------------------------------\n",
      "7.7 M     Trainable params\n",
      "0         Non-trainable params\n",
      "7.7 M     Total params\n",
      "30.745    Total estimated model params size (MB)\n"
     ]
    },
    {
     "data": {
      "application/vnd.jupyter.widget-view+json": {
       "model_id": "edb22fe071544c39a6a96f401f5c15ac",
       "version_major": 2,
       "version_minor": 0
      },
      "text/plain": [
       "Sanity Checking: 0it [00:00, ?it/s]"
      ]
     },
     "metadata": {},
     "output_type": "display_data"
    },
    {
     "name": "stderr",
     "output_type": "stream",
     "text": [
      "/cellar/users/aklie/opt/miniconda3/envs/ml4gland/lib/python3.9/site-packages/pytorch_lightning/trainer/connectors/data_connector.py:430: PossibleUserWarning: The dataloader, val_dataloader, does not have many workers which may be a bottleneck. Consider increasing the value of the `num_workers` argument` (try 16 which is the number of cpus on this machine) in the `DataLoader` init to improve performance.\n",
      "  rank_zero_warn(\n",
      "/cellar/users/aklie/opt/miniconda3/envs/ml4gland/lib/python3.9/site-packages/pytorch_lightning/trainer/connectors/data_connector.py:430: PossibleUserWarning: The dataloader, train_dataloader, does not have many workers which may be a bottleneck. Consider increasing the value of the `num_workers` argument` (try 16 which is the number of cpus on this machine) in the `DataLoader` init to improve performance.\n",
      "  rank_zero_warn(\n"
     ]
    },
    {
     "data": {
      "application/vnd.jupyter.widget-view+json": {
       "model_id": "0a82ae5f1b5147fe852f991b12c75a97",
       "version_major": 2,
       "version_minor": 0
      },
      "text/plain": [
       "Training: 0it [00:00, ?it/s]"
      ]
     },
     "metadata": {},
     "output_type": "display_data"
    },
    {
     "data": {
      "application/vnd.jupyter.widget-view+json": {
       "model_id": "0998fe1311cd4562b11b9eb9cbe85494",
       "version_major": 2,
       "version_minor": 0
      },
      "text/plain": [
       "Validation: 0it [00:00, ?it/s]"
      ]
     },
     "metadata": {},
     "output_type": "display_data"
    },
    {
     "data": {
      "application/vnd.jupyter.widget-view+json": {
       "model_id": "fc909a636cb445cdaef003f61ca67482",
       "version_major": 2,
       "version_minor": 0
      },
      "text/plain": [
       "Validation: 0it [00:00, ?it/s]"
      ]
     },
     "metadata": {},
     "output_type": "display_data"
    },
    {
     "data": {
      "application/vnd.jupyter.widget-view+json": {
       "model_id": "854e118eba8e4735aeb7913b20c50ea3",
       "version_major": 2,
       "version_minor": 0
      },
      "text/plain": [
       "Validation: 0it [00:00, ?it/s]"
      ]
     },
     "metadata": {},
     "output_type": "display_data"
    },
    {
     "data": {
      "application/vnd.jupyter.widget-view+json": {
       "model_id": "06bbf87de41b415da653d7818bbeed9d",
       "version_major": 2,
       "version_minor": 0
      },
      "text/plain": [
       "Validation: 0it [00:00, ?it/s]"
      ]
     },
     "metadata": {},
     "output_type": "display_data"
    },
    {
     "data": {
      "application/vnd.jupyter.widget-view+json": {
       "model_id": "a99011967d164d098f2f16adec3a8a71",
       "version_major": 2,
       "version_minor": 0
      },
      "text/plain": [
       "Validation: 0it [00:00, ?it/s]"
      ]
     },
     "metadata": {},
     "output_type": "display_data"
    },
    {
     "data": {
      "application/vnd.jupyter.widget-view+json": {
       "model_id": "adc518ae367e4dd7867c33085c493997",
       "version_major": 2,
       "version_minor": 0
      },
      "text/plain": [
       "Validation: 0it [00:00, ?it/s]"
      ]
     },
     "metadata": {},
     "output_type": "display_data"
    },
    {
     "data": {
      "application/vnd.jupyter.widget-view+json": {
       "model_id": "6b5d4fa7d6c5439da094a81a40fc4bcf",
       "version_major": 2,
       "version_minor": 0
      },
      "text/plain": [
       "Validation: 0it [00:00, ?it/s]"
      ]
     },
     "metadata": {},
     "output_type": "display_data"
    },
    {
     "data": {
      "application/vnd.jupyter.widget-view+json": {
       "model_id": "4d8de779919e44fb8f4e8ba70529772a",
       "version_major": 2,
       "version_minor": 0
      },
      "text/plain": [
       "Validation: 0it [00:00, ?it/s]"
      ]
     },
     "metadata": {},
     "output_type": "display_data"
    },
    {
     "data": {
      "application/vnd.jupyter.widget-view+json": {
       "model_id": "5d1450b10d3346939ee3747ab9f2fa03",
       "version_major": 2,
       "version_minor": 0
      },
      "text/plain": [
       "Validation: 0it [00:00, ?it/s]"
      ]
     },
     "metadata": {},
     "output_type": "display_data"
    },
    {
     "data": {
      "application/vnd.jupyter.widget-view+json": {
       "model_id": "32f261bf4c354556973a6c995fbefef7",
       "version_major": 2,
       "version_minor": 0
      },
      "text/plain": [
       "Validation: 0it [00:00, ?it/s]"
      ]
     },
     "metadata": {},
     "output_type": "display_data"
    },
    {
     "data": {
      "application/vnd.jupyter.widget-view+json": {
       "model_id": "435c0f43ccb3465685aa27c18fc5d070",
       "version_major": 2,
       "version_minor": 0
      },
      "text/plain": [
       "Validation: 0it [00:00, ?it/s]"
      ]
     },
     "metadata": {},
     "output_type": "display_data"
    },
    {
     "data": {
      "application/vnd.jupyter.widget-view+json": {
       "model_id": "d8321356dc5a434e8d957a9f2b62e449",
       "version_major": 2,
       "version_minor": 0
      },
      "text/plain": [
       "Validation: 0it [00:00, ?it/s]"
      ]
     },
     "metadata": {},
     "output_type": "display_data"
    },
    {
     "data": {
      "application/vnd.jupyter.widget-view+json": {
       "model_id": "3a043ed5926e41358240ba52850a9354",
       "version_major": 2,
       "version_minor": 0
      },
      "text/plain": [
       "Validation: 0it [00:00, ?it/s]"
      ]
     },
     "metadata": {},
     "output_type": "display_data"
    },
    {
     "data": {
      "application/vnd.jupyter.widget-view+json": {
       "model_id": "5c5d56bce0d941f4a289a7db9d86aaa4",
       "version_major": 2,
       "version_minor": 0
      },
      "text/plain": [
       "Validation: 0it [00:00, ?it/s]"
      ]
     },
     "metadata": {},
     "output_type": "display_data"
    },
    {
     "data": {
      "application/vnd.jupyter.widget-view+json": {
       "model_id": "343135b252464e71939ad270f6b461a4",
       "version_major": 2,
       "version_minor": 0
      },
      "text/plain": [
       "Validation: 0it [00:00, ?it/s]"
      ]
     },
     "metadata": {},
     "output_type": "display_data"
    },
    {
     "data": {
      "application/vnd.jupyter.widget-view+json": {
       "model_id": "98a01ba838584f1cba92044a9cab41b1",
       "version_major": 2,
       "version_minor": 0
      },
      "text/plain": [
       "Validation: 0it [00:00, ?it/s]"
      ]
     },
     "metadata": {},
     "output_type": "display_data"
    },
    {
     "data": {
      "application/vnd.jupyter.widget-view+json": {
       "model_id": "cfe2309374954cb5badf48c33f76c51c",
       "version_major": 2,
       "version_minor": 0
      },
      "text/plain": [
       "Validation: 0it [00:00, ?it/s]"
      ]
     },
     "metadata": {},
     "output_type": "display_data"
    }
   ],
   "source": [
    "# Fitting the model\n",
    "train.fit_sequence_module(\n",
    "    model=model,\n",
    "    sdata=sdata_training,\n",
    "    seq_var=\"ohe_seq\",\n",
    "    target_vars=[\"Hk_log2_enrichment\", \"Dev_log2_enrichment\"],\n",
    "    in_memory=True,\n",
    "    train_var=\"train_val\",\n",
    "    epochs=100,\n",
    "    batch_size=128,\n",
    "    num_workers=2,\n",
    "    prefetch_factor=2,\n",
    "    drop_last=False,\n",
    "    name=\"DeepSTARR\",\n",
    "    version=\"Trial1\",\n",
    "    early_stopping_patience=10,\n",
    "    log_dir=settings.logging_dir,\n",
    "    transforms={\"ohe_seq\": lambda x: x.swapaxes(1, 2)},  #\"target\": lambda x: torch.tensor(x, dtype=torch.float32)}\n",
    "    seed=1234\n",
    ")"
   ]
  },
  {
   "attachments": {},
   "cell_type": "markdown",
   "metadata": {},
   "source": [
    "# Training curve"
   ]
  },
  {
   "cell_type": "code",
   "execution_count": 51,
   "metadata": {},
   "outputs": [
    {
     "name": "stderr",
     "output_type": "stream",
     "text": [
      "Matplotlib is building the font cache; this may take a moment.\n"
     ]
    }
   ],
   "source": [
    "# Plotting libraries\n",
    "from eugene import plot as pl"
   ]
  },
  {
   "cell_type": "code",
   "execution_count": 52,
   "metadata": {},
   "outputs": [
    {
     "data": {
      "image/png": "[encoded data removed]",
      "text/plain": [
       "<Figure size 1200x600 with 2 Axes>"
      ]
     },
     "metadata": {},
     "output_type": "display_data"
    }
   ],
   "source": [
    "# Plot the training summary\n",
    "pl.training_summary(\"/cellar/users/aklie/projects/ML4GLand/issues/41/tutorial_logs/DeepSTARR/Trial1\")"
   ]
  },
  {
   "attachments": {},
   "cell_type": "markdown",
   "metadata": {},
   "source": [
    "# DONE!"
   ]
  },
  {
   "attachments": {},
   "cell_type": "markdown",
   "metadata": {},
   "source": [
    "---"
   ]
  }
 ],
 "metadata": {
  "kernelspec": {
   "display_name": "Python 3.9 ml4gland",
   "language": "python",
   "name": "ml4gland"
  },
  "orig_nbformat": 4
 },
 "nbformat": 4,
 "nbformat_minor": 2
}
