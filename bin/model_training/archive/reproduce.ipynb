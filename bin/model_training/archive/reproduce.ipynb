{
 "cells": [
  {
   "cell_type": "code",
   "execution_count": null,
   "metadata": {},
   "outputs": [],
   "source": [
    "%matplotlib inline"
   ]
  },
  {
   "cell_type": "code",
   "execution_count": 1,
   "metadata": {},
   "outputs": [
    {
     "data": {
      "text/plain": [
       "'/cellar/users/aklie/projects/ML4GLand/issues/41'"
      ]
     },
     "execution_count": 1,
     "metadata": {},
     "output_type": "execute_result"
    }
   ],
   "source": [
    "# Change this to where you would like to save all your results\n",
    "import os\n",
    "os.chdir(\"/cellar/users/aklie/projects/ML4GLand/issues/41\")  # TODO: change this to your own directory\n",
    "cwd = os.getcwd()\n",
    "cwd"
   ]
  },
  {
   "cell_type": "code",
   "execution_count": 2,
   "metadata": {},
   "outputs": [],
   "source": [
    "# Configure EUGENe directories, if you do not set these, EUGENe will use the default directories\n",
    "from eugene import settings\n",
    "settings.logging_dir = \"./tutorial_logs\" # Directory where EUGENe will save Tensorboard training logs and model checkpoints to\n",
    "settings.output_dir = \"./tutorial_output\" # Directory where EUGENe will save output files to"
   ]
  },
  {
   "cell_type": "code",
   "execution_count": 3,
   "metadata": {},
   "outputs": [
    {
     "name": "stdout",
     "output_type": "stream",
     "text": [
      "Dataset deAlmeida22 Sequences_Train.fa has already been downloaded.\n",
      "Dataset deAlmeida22 Sequences_activity_Train.txt has already been downloaded.\n",
      "Zarr file found. Opening existing zarr file.\n",
      "Dataset deAlmeida22 Sequences_Val.fa has already been downloaded.\n",
      "Dataset deAlmeida22 Sequences_activity_Val.txt has already been downloaded.\n",
      "Zarr file found. Opening existing zarr file.\n",
      "Dataset deAlmeida22 Sequences_Test.fa has already been downloaded.\n",
      "Dataset deAlmeida22 Sequences_activity_Test.txt has already been downloaded.\n",
      "Zarr file found. Opening existing zarr file.\n"
     ]
    }
   ],
   "source": [
    "#### Data\n",
    "import seqdatasets\n",
    "sdata_train = seqdatasets.deAlmeida22(dataset='train')\n",
    "sdata_val = seqdatasets.deAlmeida22(dataset='val')\n",
    "sdata_test = seqdatasets.deAlmeida22(dataset='test')"
   ]
  },
  {
   "cell_type": "code",
   "execution_count": 4,
   "metadata": {},
   "outputs": [],
   "source": [
    "# One hot encode all the sequences in the sdata using the wrapper function\n",
    "from eugene import preprocess as pp\n",
    "pp.ohe_seqs_sdata(sdata_train, alphabet=\"DNA\")\n",
    "pp.ohe_seqs_sdata(sdata_val, alphabet=\"DNA\")\n",
    "pp.ohe_seqs_sdata(sdata_test, alphabet=\"DNA\")"
   ]
  },
  {
   "cell_type": "code",
   "execution_count": 5,
   "metadata": {},
   "outputs": [],
   "source": [
    "# Make unique ids for each sequence in the sdata\n",
    "pp.make_unique_ids_sdata(sdata_train)\n",
    "pp.make_unique_ids_sdata(sdata_val)\n",
    "pp.make_unique_ids_sdata(sdata_test)"
   ]
  },
  {
   "cell_type": "code",
   "execution_count": 6,
   "metadata": {},
   "outputs": [],
   "source": [
    "# Merge the sdata_train xarray with the sdata_val xarray\n",
    "import xarray as xr\n",
    "sdata_train[\"train_val\"] = True\n",
    "sdata_val[\"train_val\"] = False\n",
    "sdata_training = xr.concat([sdata_train, sdata_val], dim=\"_sequence\")"
   ]
  },
  {
   "cell_type": "code",
   "execution_count": 7,
   "metadata": {},
   "outputs": [],
   "source": [
    "#### Model\n",
    "from eugene.models import zoo\n",
    "from eugene import models"
   ]
  },
  {
   "cell_type": "code",
   "execution_count": 22,
   "metadata": {},
   "outputs": [],
   "source": [
    "model = zoo.DeepSTARR(\n",
    "    input_len=249,\n",
    "    output_dim=2\n",
    ")"
   ]
  },
  {
   "cell_type": "code",
   "execution_count": 23,
   "metadata": {},
   "outputs": [
    {
     "data": {
      "text/plain": [
       "SequenceModule(\n",
       "  (arch): DeepSTARR(\n",
       "    (conv1d_tower): Conv1DTower(\n",
       "      (layers): Sequential(\n",
       "        (0): Conv1d(4, 246, kernel_size=(7,), stride=(1,), padding=same)\n",
       "        (1): BatchNorm1d(246, eps=1e-05, momentum=0.1, affine=True, track_running_stats=True)\n",
       "        (2): ReLU()\n",
       "        (3): MaxPool1d(kernel_size=2, stride=1, padding=0, dilation=1, ceil_mode=False)\n",
       "        (4): Conv1d(246, 60, kernel_size=(3,), stride=(1,), padding=same)\n",
       "        (5): BatchNorm1d(60, eps=1e-05, momentum=0.1, affine=True, track_running_stats=True)\n",
       "        (6): ReLU()\n",
       "        (7): MaxPool1d(kernel_size=2, stride=1, padding=0, dilation=1, ceil_mode=False)\n",
       "        (8): Conv1d(60, 60, kernel_size=(5,), stride=(1,), padding=same)\n",
       "        (9): BatchNorm1d(60, eps=1e-05, momentum=0.1, affine=True, track_running_stats=True)\n",
       "        (10): ReLU()\n",
       "        (11): MaxPool1d(kernel_size=2, stride=1, padding=0, dilation=1, ceil_mode=False)\n",
       "        (12): Conv1d(60, 120, kernel_size=(3,), stride=(1,), padding=same)\n",
       "        (13): BatchNorm1d(120, eps=1e-05, momentum=0.1, affine=True, track_running_stats=True)\n",
       "        (14): ReLU()\n",
       "        (15): MaxPool1d(kernel_size=2, stride=1, padding=0, dilation=1, ceil_mode=False)\n",
       "      )\n",
       "    )\n",
       "    (dense_block): DenseBlock(\n",
       "      (layers): Sequential(\n",
       "        (0): Linear(in_features=29400, out_features=256, bias=True)\n",
       "        (1): BatchNorm1d(256, eps=1e-05, momentum=0.1, affine=True, track_running_stats=True)\n",
       "        (2): ReLU()\n",
       "        (3): Dropout(p=0.4, inplace=False)\n",
       "        (4): Linear(in_features=256, out_features=256, bias=True)\n",
       "        (5): BatchNorm1d(256, eps=1e-05, momentum=0.1, affine=True, track_running_stats=True)\n",
       "        (6): ReLU()\n",
       "        (7): Dropout(p=0.4, inplace=False)\n",
       "        (8): Linear(in_features=256, out_features=2, bias=True)\n",
       "      )\n",
       "    )\n",
       "  )\n",
       "  (train_metric): R2Score()\n",
       "  (val_metric): R2Score()\n",
       "  (test_metric): R2Score()\n",
       ")"
      ]
     },
     "execution_count": 23,
     "metadata": {},
     "output_type": "execute_result"
    }
   ],
   "source": [
    "model = models.SequenceModule(\n",
    "    arch=model,\n",
    "    task=\"regression\", \n",
    "    loss_fxn= \"mse\",\n",
    "    scheduler='reduce_lr_on_plateau',\n",
    "    optimizer=\"adam\",\n",
    "    optimizer_lr=0.002,\n",
    "    optimizer_kwargs=dict(weight_decay=1e-6)\n",
    ")\n",
    "models.init_weights(model)\n",
    "model"
   ]
  },
  {
   "cell_type": "code",
   "execution_count": 24,
   "metadata": {},
   "outputs": [],
   "source": [
    "from eugene import train\n",
    "import torch "
   ]
  },
  {
   "cell_type": "code",
   "execution_count": 25,
   "metadata": {},
   "outputs": [
    {
     "name": "stdout",
     "output_type": "stream",
     "text": [
      "Dropping 0 sequences with NaN targets.\n",
      "Loading ohe_seq and ['Hk_log2_enrichment_scaled', 'Dev_log2_enrichment_scaled'] into memory\n"
     ]
    },
    {
     "name": "stderr",
     "output_type": "stream",
     "text": [
      "[rank: 0] Global seed set to 1234\n",
      "/cellar/users/aklie/opt/miniconda3/envs/ml4gland/lib/python3.9/site-packages/lightning_fabric/plugins/environments/slurm.py:165: PossibleUserWarning: The `srun` command is available on your system but is not used. HINT: If your intention is to run Lightning on SLURM, prepend your python command with `srun` like so: srun python /cellar/users/aklie/opt/miniconda3/envs/ml4gland/lib ...\n",
      "  rank_zero_warn(\n",
      "GPU available: True (cuda), used: True\n",
      "TPU available: False, using: 0 TPU cores\n",
      "IPU available: False, using: 0 IPUs\n",
      "HPU available: False, using: 0 HPUs\n",
      "LOCAL_RANK: 0 - CUDA_VISIBLE_DEVICES: [0]\n",
      "\n",
      "  | Name         | Type      | Params\n",
      "-------------------------------------------\n",
      "0 | arch         | DeepSTARR | 7.7 M \n",
      "1 | train_metric | R2Score   | 0     \n",
      "2 | val_metric   | R2Score   | 0     \n",
      "3 | test_metric  | R2Score   | 0     \n",
      "-------------------------------------------\n",
      "7.7 M     Trainable params\n",
      "0         Non-trainable params\n",
      "7.7 M     Total params\n",
      "30.745    Total estimated model params size (MB)\n"
     ]
    },
    {
     "data": {
      "application/vnd.jupyter.widget-view+json": {
       "model_id": "f4a6c3d4c1cc4dcea44159bef3421892",
       "version_major": 2,
       "version_minor": 0
      },
      "text/plain": [
       "Sanity Checking: 0it [00:00, ?it/s]"
      ]
     },
     "metadata": {},
     "output_type": "display_data"
    },
    {
     "name": "stderr",
     "output_type": "stream",
     "text": [
      "/cellar/users/aklie/opt/miniconda3/envs/ml4gland/lib/python3.9/site-packages/pytorch_lightning/trainer/connectors/data_connector.py:430: PossibleUserWarning: The dataloader, val_dataloader, does not have many workers which may be a bottleneck. Consider increasing the value of the `num_workers` argument` (try 16 which is the number of cpus on this machine) in the `DataLoader` init to improve performance.\n",
      "  rank_zero_warn(\n",
      "/cellar/users/aklie/opt/miniconda3/envs/ml4gland/lib/python3.9/site-packages/pytorch_lightning/trainer/connectors/data_connector.py:430: PossibleUserWarning: The dataloader, train_dataloader, does not have many workers which may be a bottleneck. Consider increasing the value of the `num_workers` argument` (try 16 which is the number of cpus on this machine) in the `DataLoader` init to improve performance.\n",
      "  rank_zero_warn(\n"
     ]
    },
    {
     "data": {
      "application/vnd.jupyter.widget-view+json": {
       "model_id": "765814c937044ec49a3d93b9bfd93d9c",
       "version_major": 2,
       "version_minor": 0
      },
      "text/plain": [
       "Training: 0it [00:00, ?it/s]"
      ]
     },
     "metadata": {},
     "output_type": "display_data"
    },
    {
     "data": {
      "application/vnd.jupyter.widget-view+json": {
       "model_id": "a77c02c90fa94f35b455e2529f9363c1",
       "version_major": 2,
       "version_minor": 0
      },
      "text/plain": [
       "Validation: 0it [00:00, ?it/s]"
      ]
     },
     "metadata": {},
     "output_type": "display_data"
    },
    {
     "data": {
      "application/vnd.jupyter.widget-view+json": {
       "model_id": "557f0bfbd44645c18ec18ad21f735192",
       "version_major": 2,
       "version_minor": 0
      },
      "text/plain": [
       "Validation: 0it [00:00, ?it/s]"
      ]
     },
     "metadata": {},
     "output_type": "display_data"
    },
    {
     "data": {
      "application/vnd.jupyter.widget-view+json": {
       "model_id": "c0b1176d776d4cc790e1c50df339f5df",
       "version_major": 2,
       "version_minor": 0
      },
      "text/plain": [
       "Validation: 0it [00:00, ?it/s]"
      ]
     },
     "metadata": {},
     "output_type": "display_data"
    },
    {
     "data": {
      "application/vnd.jupyter.widget-view+json": {
       "model_id": "7e63595886a9462b92559253be582fb7",
       "version_major": 2,
       "version_minor": 0
      },
      "text/plain": [
       "Validation: 0it [00:00, ?it/s]"
      ]
     },
     "metadata": {},
     "output_type": "display_data"
    },
    {
     "data": {
      "application/vnd.jupyter.widget-view+json": {
       "model_id": "91ea40237b6649ffb9ed8a246403d67a",
       "version_major": 2,
       "version_minor": 0
      },
      "text/plain": [
       "Validation: 0it [00:00, ?it/s]"
      ]
     },
     "metadata": {},
     "output_type": "display_data"
    },
    {
     "data": {
      "application/vnd.jupyter.widget-view+json": {
       "model_id": "b92c6bfdd3684c62809df1c040b0281b",
       "version_major": 2,
       "version_minor": 0
      },
      "text/plain": [
       "Validation: 0it [00:00, ?it/s]"
      ]
     },
     "metadata": {},
     "output_type": "display_data"
    },
    {
     "name": "stderr",
     "output_type": "stream",
     "text": [
      "/cellar/users/aklie/opt/miniconda3/envs/ml4gland/lib/python3.9/site-packages/pytorch_lightning/trainer/call.py:54: UserWarning: Detected KeyboardInterrupt, attempting graceful shutdown...\n",
      "  rank_zero_warn(\"Detected KeyboardInterrupt, attempting graceful shutdown...\")\n"
     ]
    }
   ],
   "source": [
    "train.fit_sequence_module(\n",
    "    model=model,\n",
    "    sdata=sdata_training,\n",
    "    seq_var=\"ohe_seq\",\n",
    "    target_vars=[\"Hk_log2_enrichment_scaled\", \"Dev_log2_enrichment_scaled\"],\n",
    "    in_memory=True,\n",
    "    train_var=\"train_val\",\n",
    "    epochs=100,\n",
    "    batch_size=128,\n",
    "    num_workers=2,\n",
    "    prefetch_factor=2,\n",
    "    drop_last=False,\n",
    "    name=\"DeepSTARR\",\n",
    "    version=\"Trial6\",\n",
    "    early_stopping_patience=10,\n",
    "    log_dir=settings.logging_dir,\n",
    "    transforms={\"ohe_seq\": lambda x: x.swapaxes(1, 2)},  #\"target\": lambda x: torch.tensor(x, dtype=torch.float32)}\n",
    "    seed=1234\n",
    ")"
   ]
  },
  {
   "cell_type": "code",
   "execution_count": 60,
   "metadata": {},
   "outputs": [],
   "source": [
    "from eugene import plot as pl"
   ]
  },
  {
   "cell_type": "code",
   "execution_count": 61,
   "metadata": {},
   "outputs": [
    {
     "data": {
      "image/png": "[encoded data removed]",
      "text/plain": [
       "<Figure size 1200x600 with 2 Axes>"
      ]
     },
     "metadata": {},
     "output_type": "display_data"
    }
   ],
   "source": [
    "pl.training_summary(\n",
    "    \"/cellar/users/aklie/projects/ML4GLand/issues/41/tutorial_logs/DeepSTARR/Trial5\"\n",
    ")"
   ]
  },
  {
   "cell_type": "code",
   "execution_count": null,
   "metadata": {},
   "outputs": [],
   "source": [
    "dd"
   ]
  }
 ],
 "metadata": {
  "kernelspec": {
   "display_name": "Python 3.9 ml4gland",
   "language": "python",
   "name": "ml4gland"
  },
  "orig_nbformat": 4
 },
 "nbformat": 4,
 "nbformat_minor": 2
}
