{
 "cells": [
  {
   "cell_type": "code",
   "execution_count": 10,
   "metadata": {},
   "outputs": [],
   "source": [
    "import os\n",
    "import time\n",
    "import numpy as np\n",
    "import seqdatasets\n",
    "from eugene import preprocess as pp\n",
    "from eugene import dataload as dl\n",
    "from eugene import train\n",
    "from eugene import models\n",
    "import seqdata as sd\n",
    "import xarray as xr\n",
    "from eugene import settings"
   ]
  },
  {
   "cell_type": "code",
   "execution_count": 11,
   "metadata": {},
   "outputs": [
    {
     "data": {
      "text/plain": [
       "'/cellar/users/aklie/projects/ML4GLand/issues/41'"
      ]
     },
     "execution_count": 11,
     "metadata": {},
     "output_type": "execute_result"
    }
   ],
   "source": [
    "# Change this to where you would like to save all your results\n",
    "import os\n",
    "os.chdir(\"/cellar/users/aklie/projects/ML4GLand/issues/41\")  # TODO: change this to your own directory\n",
    "cwd = os.getcwd()\n",
    "cwd"
   ]
  },
  {
   "cell_type": "code",
   "execution_count": 2,
   "metadata": {},
   "outputs": [
    {
     "name": "stdout",
     "output_type": "stream",
     "text": [
      "Path /cellar/users/aklie/eugene_data/deAlmeida22 does not exist, creating new folder.\n",
      "Downloading deAlmeida22 Sequences_Train.fa?download=1 to /cellar/users/aklie/eugene_data/deAlmeida22...\n",
      "Finished downloading Sequences_Train.fa?download=1\n",
      "Downloading deAlmeida22 Sequences_activity_Train.txt?download=1 to /cellar/users/aklie/eugene_data/deAlmeida22...\n",
      "Finished downloading Sequences_activity_Train.txt?download=1\n",
      "Zarr file not found. Creating new zarr file.\n"
     ]
    },
    {
     "name": "stderr",
     "output_type": "stream",
     "text": [
      "100%|██████████| 402296/402296 [00:04<00:00, 85113.96it/s]\n"
     ]
    },
    {
     "name": "stdout",
     "output_type": "stream",
     "text": [
      "Downloading deAlmeida22 Sequences_Val.fa?download=1 to /cellar/users/aklie/eugene_data/deAlmeida22...\n",
      "Finished downloading Sequences_Val.fa?download=1\n",
      "Downloading deAlmeida22 Sequences_activity_Val.txt?download=1 to /cellar/users/aklie/eugene_data/deAlmeida22...\n",
      "Finished downloading Sequences_activity_Val.txt?download=1\n",
      "Zarr file not found. Creating new zarr file.\n"
     ]
    },
    {
     "name": "stderr",
     "output_type": "stream",
     "text": [
      "100%|██████████| 40570/40570 [00:00<00:00, 86336.93it/s]\n"
     ]
    }
   ],
   "source": [
    "sdata_train = seqdatasets.deAlmeida22(\"train\")\n",
    "sdata_val = seqdatasets.deAlmeida22(\"val\")\n",
    "pp.ohe_seqs_sdata(sdata_train)\n",
    "pp.ohe_seqs_sdata(sdata_val)"
   ]
  },
  {
   "cell_type": "code",
   "execution_count": 3,
   "metadata": {},
   "outputs": [],
   "source": [
    "from eugene.models.zoo import DeepSTARR"
   ]
  },
  {
   "cell_type": "code",
   "execution_count": 4,
   "metadata": {},
   "outputs": [],
   "source": [
    "arch = DeepSTARR(\n",
    "    input_len=249, \n",
    "    output_dim=2, \n",
    ")\n",
    "models.init_weights(arch)"
   ]
  },
  {
   "cell_type": "code",
   "execution_count": 5,
   "metadata": {},
   "outputs": [],
   "source": [
    "model = models.SequenceModule(\n",
    "    arch=arch,\n",
    "    task=\"regression\",\n",
    "    loss_fxn=\"mse\",\n",
    "    optimizer=\"adam\",\n",
    "    optimizer_lr=0.002,\n",
    "    optimizer_kwargs=dict(weight_decay=1e-6)\n",
    ")"
   ]
  },
  {
   "cell_type": "code",
   "execution_count": 6,
   "metadata": {},
   "outputs": [],
   "source": [
    "sdata_train[\"target\"] = xr.concat([sdata_train[target_var] for target_var in ['Dev_log2_enrichment_quantile_normalized', 'Hk_log2_enrichment_quantile_normalized']], dim=\"_targets\").transpose(\"_sequence\", \"_targets\")\n",
    "sdata_val[\"target\"] = xr.concat([sdata_val[target_var] for target_var in ['Dev_log2_enrichment_quantile_normalized', 'Hk_log2_enrichment_quantile_normalized']], dim=\"_targets\").transpose(\"_sequence\", \"_targets\")"
   ]
  },
  {
   "cell_type": "code",
   "execution_count": 8,
   "metadata": {},
   "outputs": [
    {
     "data": {
      "text/plain": [
       "(<xarray.Dataset>\n",
       " Dimensions:                                  (_sequence: 402296, _length: 249,\n",
       "                                               length: 249, _ohe: 4, _targets: 2)\n",
       " Coordinates:\n",
       "   * _sequence                                (_sequence) object 'chr2L_5587_5...\n",
       " Dimensions without coordinates: _length, length, _ohe, _targets\n",
       " Data variables:\n",
       "     seq                                      (_sequence, _length) |S1 b'\\x80'...\n",
       "     Dev_log2_enrichment                      (_sequence) float64 5.712 ... -2...\n",
       "     Hk_log2_enrichment                       (_sequence) float64 1.363 ... -1...\n",
       "     Dev_log2_enrichment_scaled               (_sequence) float64 3.527 ... -1.8\n",
       "     Hk_log2_enrichment_scaled                (_sequence) float64 0.8735 ... -...\n",
       "     Dev_log2_enrichment_quantile_normalized  (_sequence) float64 6.046 ... -2...\n",
       "     Hk_log2_enrichment_quantile_normalized   (_sequence) float64 1.711 ... -1...\n",
       "     ohe_seq                                  (_sequence, length, _ohe) uint8 ...\n",
       "     target                                   (_sequence, _targets) float64 6....,\n",
       " <xarray.Dataset>\n",
       " Dimensions:                                  (_sequence: 40570, _length: 249,\n",
       "                                               length: 249, _ohe: 4, _targets: 2)\n",
       " Coordinates:\n",
       "   * _sequence                                (_sequence) object 'chr2R_4429_4...\n",
       " Dimensions without coordinates: _length, length, _ohe, _targets\n",
       " Data variables:\n",
       "     seq                                      (_sequence, _length) |S1 b'\\xf0'...\n",
       "     Dev_log2_enrichment                      (_sequence) float64 2.144 ... 0....\n",
       "     Hk_log2_enrichment                       (_sequence) float64 2.679 ... 1.007\n",
       "     Dev_log2_enrichment_scaled               (_sequence) float64 1.182 ... 0....\n",
       "     Hk_log2_enrichment_scaled                (_sequence) float64 1.671 ... 0....\n",
       "     Dev_log2_enrichment_quantile_normalized  (_sequence) float64 1.811 ... 0....\n",
       "     Hk_log2_enrichment_quantile_normalized   (_sequence) float64 2.754 ... 1.361\n",
       "     ohe_seq                                  (_sequence, length, _ohe) uint8 ...\n",
       "     target                                   (_sequence, _targets) float64 1....)"
      ]
     },
     "execution_count": 8,
     "metadata": {},
     "output_type": "execute_result"
    }
   ],
   "source": [
    "sdata_train.load(), sdata_val.load()"
   ]
  },
  {
   "cell_type": "code",
   "execution_count": 12,
   "metadata": {},
   "outputs": [],
   "source": [
    "train_dl = sd.get_torch_dataloader(\n",
    "    sdata_train,\n",
    "    batch_size=128,\n",
    "    sample_dims=\"_sequence\",\n",
    "    variables=[\"ohe_seq\", \"target\"],\n",
    "    shuffle=True,\n",
    "    num_workers=4,\n",
    "    prefetch_factor=2,\n",
    "    transforms={\"ohe_seq\": lambda x: x.swapaxes(1, 2)}\n",
    ")\n",
    "\n",
    "val_dl = sd.get_torch_dataloader(\n",
    "    sdata_val,\n",
    "    batch_size=128,\n",
    "    sample_dims=\"_sequence\",\n",
    "    variables=[\"ohe_seq\", \"target\"],\n",
    "    shuffle=False,\n",
    "    num_workers=4,\n",
    "    prefetch_factor=2,\n",
    "    transforms={\"ohe_seq\": lambda x: x.swapaxes(1, 2)}\n",
    ")"
   ]
  },
  {
   "cell_type": "code",
   "execution_count": 14,
   "metadata": {},
   "outputs": [
    {
     "name": "stdout",
     "output_type": "stream",
     "text": [
      "No seed set\n"
     ]
    },
    {
     "name": "stderr",
     "output_type": "stream",
     "text": [
      "/cellar/users/aklie/opt/miniconda3/envs/ml4gland/lib/python3.9/site-packages/lightning_fabric/plugins/environments/slurm.py:165: PossibleUserWarning: The `srun` command is available on your system but is not used. HINT: If your intention is to run Lightning on SLURM, prepend your python command with `srun` like so: srun python /cellar/users/aklie/opt/miniconda3/envs/ml4gland/lib ...\n",
      "  rank_zero_warn(\n",
      "GPU available: True (cuda), used: True\n",
      "TPU available: False, using: 0 TPU cores\n",
      "IPU available: False, using: 0 IPUs\n",
      "HPU available: False, using: 0 HPUs\n",
      "/cellar/users/aklie/opt/miniconda3/envs/ml4gland/lib/python3.9/site-packages/lightning_fabric/plugins/environments/slurm.py:165: PossibleUserWarning: The `srun` command is available on your system but is not used. HINT: If your intention is to run Lightning on SLURM, prepend your python command with `srun` like so: srun python /cellar/users/aklie/opt/miniconda3/envs/ml4gland/lib ...\n",
      "  rank_zero_warn(\n",
      "LOCAL_RANK: 0 - CUDA_VISIBLE_DEVICES: [0]\n",
      "\n",
      "  | Name         | Type      | Params\n",
      "-------------------------------------------\n",
      "0 | arch         | DeepSTARR | 7.7 M \n",
      "1 | train_metric | R2Score   | 0     \n",
      "2 | val_metric   | R2Score   | 0     \n",
      "3 | test_metric  | R2Score   | 0     \n",
      "-------------------------------------------\n",
      "7.7 M     Trainable params\n",
      "0         Non-trainable params\n",
      "7.7 M     Total params\n",
      "30.745    Total estimated model params size (MB)\n"
     ]
    },
    {
     "data": {
      "application/vnd.jupyter.widget-view+json": {
       "model_id": "12a34096dbcb481fb65be7f07113d31a",
       "version_major": 2,
       "version_minor": 0
      },
      "text/plain": [
       "Sanity Checking: 0it [00:00, ?it/s]"
      ]
     },
     "metadata": {},
     "output_type": "display_data"
    },
    {
     "data": {
      "application/vnd.jupyter.widget-view+json": {
       "model_id": "a3c389c32efb43bf9197dd24691f0eea",
       "version_major": 2,
       "version_minor": 0
      },
      "text/plain": [
       "Training: 0it [00:00, ?it/s]"
      ]
     },
     "metadata": {},
     "output_type": "display_data"
    },
    {
     "data": {
      "application/vnd.jupyter.widget-view+json": {
       "model_id": "4ce31c27ab1249328df43acea3c9aee9",
       "version_major": 2,
       "version_minor": 0
      },
      "text/plain": [
       "Validation: 0it [00:00, ?it/s]"
      ]
     },
     "metadata": {},
     "output_type": "display_data"
    },
    {
     "data": {
      "application/vnd.jupyter.widget-view+json": {
       "model_id": "491b32d9a35e4558ae9ff595dda98255",
       "version_major": 2,
       "version_minor": 0
      },
      "text/plain": [
       "Validation: 0it [00:00, ?it/s]"
      ]
     },
     "metadata": {},
     "output_type": "display_data"
    },
    {
     "data": {
      "application/vnd.jupyter.widget-view+json": {
       "model_id": "170a0783c32546afb837ff5a871ecb44",
       "version_major": 2,
       "version_minor": 0
      },
      "text/plain": [
       "Validation: 0it [00:00, ?it/s]"
      ]
     },
     "metadata": {},
     "output_type": "display_data"
    },
    {
     "data": {
      "application/vnd.jupyter.widget-view+json": {
       "model_id": "67163d84beca4773a3713874e1ce0d60",
       "version_major": 2,
       "version_minor": 0
      },
      "text/plain": [
       "Validation: 0it [00:00, ?it/s]"
      ]
     },
     "metadata": {},
     "output_type": "display_data"
    },
    {
     "name": "stderr",
     "output_type": "stream",
     "text": [
      "/cellar/users/aklie/opt/miniconda3/envs/ml4gland/lib/python3.9/site-packages/pytorch_lightning/trainer/call.py:54: UserWarning: Detected KeyboardInterrupt, attempting graceful shutdown...\n",
      "  rank_zero_warn(\"Detected KeyboardInterrupt, attempting graceful shutdown...\")\n"
     ]
    }
   ],
   "source": [
    "train.fit(\n",
    "    model,\n",
    "    train_dataloader=train_dl,\n",
    "    val_dataloader=val_dl,\n",
    "    gpus=1,\n",
    "    epochs=100,\n",
    "    early_stopping_patience=10,\n",
    "    log_dir=settings.logging_dir,\n",
    "    name=\"DeepSTARR\",\n",
    "    version=\"Trial7\",\n",
    ")"
   ]
  },
  {
   "cell_type": "code",
   "execution_count": null,
   "metadata": {},
   "outputs": [],
   "source": []
  }
 ],
 "metadata": {
  "kernelspec": {
   "display_name": "Python 3.9 ml4gland",
   "language": "python",
   "name": "ml4gland"
  },
  "language_info": {
   "codemirror_mode": {
    "name": "ipython",
    "version": 3
   },
   "file_extension": ".py",
   "mimetype": "text/x-python",
   "name": "python",
   "nbconvert_exporter": "python",
   "pygments_lexer": "ipython3",
   "version": "3.9.16"
  },
  "orig_nbformat": 4
 },
 "nbformat": 4,
 "nbformat_minor": 2
}
