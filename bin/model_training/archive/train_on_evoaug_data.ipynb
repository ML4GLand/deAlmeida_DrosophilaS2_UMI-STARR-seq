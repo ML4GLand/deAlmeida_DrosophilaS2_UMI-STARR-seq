{
 "cells": [
  {
   "cell_type": "code",
   "execution_count": 1,
   "metadata": {},
   "outputs": [
    {
     "name": "stderr",
     "output_type": "stream",
     "text": [
      "OMP: Info #276: omp_set_nested routine deprecated, please use omp_set_max_active_levels instead.\n"
     ]
    }
   ],
   "source": [
    "import os\n",
    "import h5py\n",
    "import time\n",
    "import numpy as np\n",
    "import seqdatasets\n",
    "from eugene import preprocess as pp\n",
    "from eugene import dataload as dl\n",
    "from eugene import train\n",
    "from eugene import models\n",
    "import seqdata as sd\n",
    "import xarray as xr\n",
    "from eugene import settings\n",
    "\n",
    "from eugene.models.zoo import DeepSTARR"
   ]
  },
  {
   "cell_type": "code",
   "execution_count": 2,
   "metadata": {},
   "outputs": [
    {
     "data": {
      "text/plain": [
       "'/cellar/users/aklie/projects/ML4GLand/issues/41'"
      ]
     },
     "execution_count": 2,
     "metadata": {},
     "output_type": "execute_result"
    }
   ],
   "source": [
    "# Change this to where you would like to save all your results\n",
    "os.chdir(\"/cellar/users/aklie/projects/ML4GLand/issues/41\")  # TODO: change this to your own directory\n",
    "cwd = os.getcwd()\n",
    "cwd"
   ]
  },
  {
   "cell_type": "code",
   "execution_count": 3,
   "metadata": {},
   "outputs": [],
   "source": [
    "h5_file = \"/cellar/users/aklie/data/ml4gland/pubs/lee22/DeepSTARR_data.h5\"\n",
    "h5 = h5py.File(h5_file, \"r\")\n",
    "h5.keys()\n",
    "X_train = h5[\"X_train\"][:]\n",
    "X_valid = h5[\"X_valid\"][:]\n",
    "X_test = h5[\"X_test\"][:]\n",
    "Y_train = h5[\"Y_train\"][:]\n",
    "Y_valid = h5[\"Y_valid\"][:]\n",
    "Y_test = h5[\"Y_test\"][:]\n",
    "h5.close()\n",
    "\n",
    "XR_train = xr.DataArray(X_train, dims=(\"_sequence\", \"_ohe\", \"_length\"))\n",
    "XR_valid = xr.DataArray(X_valid, dims=(\"_sequence\", \"_ohe\", \"_length\"))\n",
    "YR_train = xr.DataArray(Y_train, dims=(\"_sequence\", \"_target\"))\n",
    "YR_valid = xr.DataArray(Y_valid, dims=(\"_sequence\", \"_target\"))\n",
    "sdata_train = xr.Dataset({\"ohe_seq\": XR_train, \"target\": YR_train})\n",
    "sdata_valid = xr.Dataset({\"ohe_seq\": XR_valid, \"target\": YR_valid})"
   ]
  },
  {
   "cell_type": "code",
   "execution_count": null,
   "metadata": {},
   "outputs": [
    {
     "name": "stdout",
     "output_type": "stream",
     "text": [
      "Dataset deAlmeida22 Sequences_Train.fa has already been downloaded.\n",
      "Dataset deAlmeida22 Sequences_activity_Train.txt has already been downloaded.\n",
      "Zarr file found. Opening existing zarr file.\n",
      "Dataset deAlmeida22 Sequences_Val.fa has already been downloaded.\n",
      "Dataset deAlmeida22 Sequences_activity_Val.txt has already been downloaded.\n",
      "Zarr file found. Opening existing zarr file.\n"
     ]
    }
   ],
   "source": [
    "sdata_train = seqdatasets.deAlmeida22(\"train\")\n",
    "sdata_val = seqdatasets.deAlmeida22(\"val\")\n",
    "pp.ohe_seqs_sdata(sdata_train)\n",
    "pp.ohe_seqs_sdata(sdata_val)\n",
    "sdata_train[\"target\"] = xr.concat([sdata_train[target_var] for target_var in ['Dev_log2_enrichment', 'Hk_log2_enrichment']], dim=\"_targets\").transpose(\"_sequence\", \"_targets\")\n",
    "sdata_val[\"target\"] = xr.concat([sdata_val[target_var] for target_var in ['Dev_log2_enrichment', 'Hk_log2_enrichment']], dim=\"_targets\").transpose(\"_sequence\", \"_targets\")\n",
    "sdata_train.load(), sdata_val.load()"
   ]
  },
  {
   "cell_type": "code",
   "execution_count": 4,
   "metadata": {},
   "outputs": [
    {
     "data": {
      "text/plain": [
       "SequenceModule(\n",
       "  (arch): DeepSTARR(\n",
       "    (conv1d_tower): Conv1DTower(\n",
       "      (layers): Sequential(\n",
       "        (0): Conv1d(4, 246, kernel_size=(7,), stride=(1,), padding=same)\n",
       "        (1): BatchNorm1d(246, eps=1e-05, momentum=0.1, affine=True, track_running_stats=True)\n",
       "        (2): ReLU()\n",
       "        (3): MaxPool1d(kernel_size=2, stride=1, padding=0, dilation=1, ceil_mode=False)\n",
       "        (4): Conv1d(246, 60, kernel_size=(3,), stride=(1,), padding=same)\n",
       "        (5): BatchNorm1d(60, eps=1e-05, momentum=0.1, affine=True, track_running_stats=True)\n",
       "        (6): ReLU()\n",
       "        (7): MaxPool1d(kernel_size=2, stride=1, padding=0, dilation=1, ceil_mode=False)\n",
       "        (8): Conv1d(60, 60, kernel_size=(5,), stride=(1,), padding=same)\n",
       "        (9): BatchNorm1d(60, eps=1e-05, momentum=0.1, affine=True, track_running_stats=True)\n",
       "        (10): ReLU()\n",
       "        (11): MaxPool1d(kernel_size=2, stride=1, padding=0, dilation=1, ceil_mode=False)\n",
       "        (12): Conv1d(60, 120, kernel_size=(3,), stride=(1,), padding=same)\n",
       "        (13): BatchNorm1d(120, eps=1e-05, momentum=0.1, affine=True, track_running_stats=True)\n",
       "        (14): ReLU()\n",
       "        (15): MaxPool1d(kernel_size=2, stride=1, padding=0, dilation=1, ceil_mode=False)\n",
       "      )\n",
       "    )\n",
       "    (dense_block): DenseBlock(\n",
       "      (layers): Sequential(\n",
       "        (0): Linear(in_features=29400, out_features=256, bias=True)\n",
       "        (1): BatchNorm1d(256, eps=1e-05, momentum=0.1, affine=True, track_running_stats=True)\n",
       "        (2): ReLU()\n",
       "        (3): Dropout(p=0.4, inplace=False)\n",
       "        (4): Linear(in_features=256, out_features=256, bias=True)\n",
       "        (5): BatchNorm1d(256, eps=1e-05, momentum=0.1, affine=True, track_running_stats=True)\n",
       "        (6): ReLU()\n",
       "        (7): Dropout(p=0.4, inplace=False)\n",
       "        (8): Linear(in_features=256, out_features=2, bias=True)\n",
       "      )\n",
       "    )\n",
       "  )\n",
       "  (train_metric): R2Score()\n",
       "  (val_metric): R2Score()\n",
       "  (test_metric): R2Score()\n",
       ")"
      ]
     },
     "execution_count": 4,
     "metadata": {},
     "output_type": "execute_result"
    }
   ],
   "source": [
    "arch = DeepSTARR(\n",
    "    input_len=249, \n",
    "    output_dim=2, \n",
    ")\n",
    "model = models.SequenceModule(\n",
    "    arch=arch,\n",
    "    task=\"regression\",\n",
    "    loss_fxn=\"mse\",\n",
    "    optimizer=\"adam\",\n",
    "    optimizer_lr=0.002,\n",
    "    optimizer_kwargs=dict(weight_decay=1e-6)\n",
    ")\n",
    "model"
   ]
  },
  {
   "cell_type": "code",
   "execution_count": 9,
   "metadata": {},
   "outputs": [],
   "source": [
    "train_dl = sd.get_torch_dataloader(\n",
    "    sdata_train,\n",
    "    batch_size=128,\n",
    "    sample_dims=\"_sequence\",\n",
    "    variables=[\"ohe_seq\", \"target\"],\n",
    "    shuffle=True,\n",
    "    prefetch_factor=None,\n",
    "    #transforms={\"ohe_seq\": lambda x: x.swapaxes(1, 2)}\n",
    ")\n",
    "\n",
    "val_dl = sd.get_torch_dataloader(\n",
    "    sdata_valid,\n",
    "    batch_size=128,\n",
    "    sample_dims=\"_sequence\",\n",
    "    variables=[\"ohe_seq\", \"target\"],\n",
    "    shuffle=False,\n",
    "    prefetch_factor=None,\n",
    "    #transforms={\"ohe_seq\": lambda x: x.swapaxes(1, 2)}\n",
    ")"
   ]
  },
  {
   "cell_type": "code",
   "execution_count": 10,
   "metadata": {},
   "outputs": [
    {
     "data": {
      "text/plain": [
       "(torch.Size([128, 4, 249]), torch.Size([128, 2]))"
      ]
     },
     "execution_count": 10,
     "metadata": {},
     "output_type": "execute_result"
    }
   ],
   "source": [
    "batch = next(iter(train_dl))\n",
    "batch[\"ohe_seq\"].shape, batch[\"target\"].shape"
   ]
  },
  {
   "cell_type": "code",
   "execution_count": 11,
   "metadata": {},
   "outputs": [
    {
     "data": {
      "text/plain": [
       "(torch.Size([128, 4, 249]), torch.Size([128, 2]))"
      ]
     },
     "execution_count": 11,
     "metadata": {},
     "output_type": "execute_result"
    }
   ],
   "source": [
    "batch = next(iter(val_dl))\n",
    "batch[\"ohe_seq\"].shape, batch[\"target\"].shape"
   ]
  },
  {
   "cell_type": "code",
   "execution_count": 12,
   "metadata": {},
   "outputs": [
    {
     "name": "stdout",
     "output_type": "stream",
     "text": [
      "No seed set\n"
     ]
    },
    {
     "name": "stderr",
     "output_type": "stream",
     "text": [
      "/cellar/users/aklie/opt/miniconda3/envs/ml4gland/lib/python3.9/site-packages/lightning_fabric/plugins/environments/slurm.py:165: PossibleUserWarning: The `srun` command is available on your system but is not used. HINT: If your intention is to run Lightning on SLURM, prepend your python command with `srun` like so: srun python /cellar/users/aklie/opt/miniconda3/envs/ml4gland/lib ...\n",
      "  rank_zero_warn(\n",
      "GPU available: True (cuda), used: True\n",
      "TPU available: False, using: 0 TPU cores\n",
      "IPU available: False, using: 0 IPUs\n",
      "HPU available: False, using: 0 HPUs\n",
      "LOCAL_RANK: 0 - CUDA_VISIBLE_DEVICES: [0]\n",
      "\n",
      "  | Name         | Type      | Params\n",
      "-------------------------------------------\n",
      "0 | arch         | DeepSTARR | 7.7 M \n",
      "1 | train_metric | R2Score   | 0     \n",
      "2 | val_metric   | R2Score   | 0     \n",
      "3 | test_metric  | R2Score   | 0     \n",
      "-------------------------------------------\n",
      "7.7 M     Trainable params\n",
      "0         Non-trainable params\n",
      "7.7 M     Total params\n",
      "30.745    Total estimated model params size (MB)\n"
     ]
    },
    {
     "data": {
      "application/vnd.jupyter.widget-view+json": {
       "model_id": "0be52902c9e4426aa700a425eabd878d",
       "version_major": 2,
       "version_minor": 0
      },
      "text/plain": [
       "Sanity Checking: 0it [00:00, ?it/s]"
      ]
     },
     "metadata": {},
     "output_type": "display_data"
    },
    {
     "name": "stderr",
     "output_type": "stream",
     "text": [
      "/cellar/users/aklie/opt/miniconda3/envs/ml4gland/lib/python3.9/site-packages/pytorch_lightning/trainer/connectors/data_connector.py:430: PossibleUserWarning: The dataloader, val_dataloader, does not have many workers which may be a bottleneck. Consider increasing the value of the `num_workers` argument` (try 16 which is the number of cpus on this machine) in the `DataLoader` init to improve performance.\n",
      "  rank_zero_warn(\n",
      "/cellar/users/aklie/opt/miniconda3/envs/ml4gland/lib/python3.9/site-packages/pytorch_lightning/trainer/connectors/data_connector.py:430: PossibleUserWarning: The dataloader, train_dataloader, does not have many workers which may be a bottleneck. Consider increasing the value of the `num_workers` argument` (try 16 which is the number of cpus on this machine) in the `DataLoader` init to improve performance.\n",
      "  rank_zero_warn(\n"
     ]
    },
    {
     "data": {
      "application/vnd.jupyter.widget-view+json": {
       "model_id": "98d76d8fe6a74a088f471a4fac231932",
       "version_major": 2,
       "version_minor": 0
      },
      "text/plain": [
       "Training: 0it [00:00, ?it/s]"
      ]
     },
     "metadata": {},
     "output_type": "display_data"
    },
    {
     "data": {
      "application/vnd.jupyter.widget-view+json": {
       "model_id": "2ca64e62b9a94a53874010e48e032371",
       "version_major": 2,
       "version_minor": 0
      },
      "text/plain": [
       "Validation: 0it [00:00, ?it/s]"
      ]
     },
     "metadata": {},
     "output_type": "display_data"
    },
    {
     "data": {
      "application/vnd.jupyter.widget-view+json": {
       "model_id": "f6382c109a1346b28bd23345f27fc72f",
       "version_major": 2,
       "version_minor": 0
      },
      "text/plain": [
       "Validation: 0it [00:00, ?it/s]"
      ]
     },
     "metadata": {},
     "output_type": "display_data"
    },
    {
     "data": {
      "application/vnd.jupyter.widget-view+json": {
       "model_id": "eacfa7d4ed764c918512956d4adf5fa4",
       "version_major": 2,
       "version_minor": 0
      },
      "text/plain": [
       "Validation: 0it [00:00, ?it/s]"
      ]
     },
     "metadata": {},
     "output_type": "display_data"
    },
    {
     "data": {
      "application/vnd.jupyter.widget-view+json": {
       "model_id": "70ac02c23d33418dbf6df050ba4342ee",
       "version_major": 2,
       "version_minor": 0
      },
      "text/plain": [
       "Validation: 0it [00:00, ?it/s]"
      ]
     },
     "metadata": {},
     "output_type": "display_data"
    }
   ],
   "source": [
    "train.fit(\n",
    "    model,\n",
    "    train_dataloader=train_dl,\n",
    "    val_dataloader=val_dl,\n",
    "    gpus=1,\n",
    "    epochs=100,\n",
    "    early_stopping_patience=10,\n",
    "    log_dir=settings.logging_dir,\n",
    "    name=\"DeepSTARR\",\n",
    "    version=\"Trial9\",\n",
    ")"
   ]
  },
  {
   "attachments": {},
   "cell_type": "markdown",
   "metadata": {},
   "source": [
    "# DONE!"
   ]
  },
  {
   "attachments": {},
   "cell_type": "markdown",
   "metadata": {},
   "source": [
    "---"
   ]
  }
 ],
 "metadata": {
  "kernelspec": {
   "display_name": "Python 3.9 ml4gland",
   "language": "python",
   "name": "ml4gland"
  },
  "orig_nbformat": 4
 },
 "nbformat": 4,
 "nbformat_minor": 2
}
