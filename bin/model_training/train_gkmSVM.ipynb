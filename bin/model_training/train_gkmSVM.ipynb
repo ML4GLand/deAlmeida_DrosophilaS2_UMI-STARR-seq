{
 "cells": [
  {
   "attachments": {},
   "cell_type": "markdown",
   "metadata": {},
   "source": [
    "# Set-up"
   ]
  },
  {
   "cell_type": "code",
   "execution_count": 1,
   "metadata": {},
   "outputs": [
    {
     "name": "stderr",
     "output_type": "stream",
     "text": [
      "OMP: Info #276: omp_set_nested routine deprecated, please use omp_set_max_active_levels instead.\n"
     ]
    }
   ],
   "source": [
    "import os\n",
    "import sys\n",
    "import seqdata as sd\n",
    "sys.path.append('/cellar/users/aklie/data/datasets/deAlmeida_DrosophilaS2_UMI-STARR-seq/bin/model_training')\n",
    "sys.path.append('/cellar/users/aklie/data/datasets/PanCancerPeptile/bin/model_training')"
   ]
  },
  {
   "cell_type": "code",
   "execution_count": 2,
   "metadata": {},
   "outputs": [],
   "source": [
    "# Set wd\n",
    "os.chdir(\"/cellar/users/aklie/data/datasets/deAlmeida_DrosophilaS2_UMI-STARR-seq\")"
   ]
  },
  {
   "cell_type": "code",
   "execution_count": 3,
   "metadata": {},
   "outputs": [],
   "source": [
    "# Set fold to train on\n",
    "log_dir = f\"models/2023_12_19/seqdatasets/gkmSVM\""
   ]
  },
  {
   "attachments": {},
   "cell_type": "markdown",
   "metadata": {},
   "source": [
    "# Instantiate the model"
   ]
  },
  {
   "cell_type": "code",
   "execution_count": 4,
   "metadata": {},
   "outputs": [],
   "source": [
    "from gkmSVM import gkmSvmModule"
   ]
  },
  {
   "cell_type": "code",
   "execution_count": 5,
   "metadata": {},
   "outputs": [
    {
     "data": {
      "text/plain": [
       "gkmSVM(task=binary_classification, kernel_type=gapped-kmer, word_length=8, informative_columns=5, mismatches=3, gamma=1.0, decay_M=50, half_life=50, reverse_complement=False, regularization_strength=1.0, epsilon=0.001, positive_weight=1.0, cached_mem_size=8000, threads=4, verbosity=2, model_name=gkmSVM)"
      ]
     },
     "execution_count": 5,
     "metadata": {},
     "output_type": "execute_result"
    }
   ],
   "source": [
    "module = gkmSvmModule(\n",
    "    task=\"binary_classification\",\n",
    "    kernel_type=\"gapped-kmer\",\n",
    "    word_length=8,\n",
    "    informative_columns=5,\n",
    ")\n",
    "module"
   ]
  },
  {
   "attachments": {},
   "cell_type": "markdown",
   "metadata": {},
   "source": [
    "# Train the model"
   ]
  },
  {
   "cell_type": "code",
   "execution_count": 6,
   "metadata": {},
   "outputs": [],
   "source": [
    "from train_gkmSVM import fit_clf"
   ]
  },
  {
   "attachments": {},
   "cell_type": "markdown",
   "metadata": {},
   "source": [
    "## Dev enhancers"
   ]
  },
  {
   "cell_type": "code",
   "execution_count": 7,
   "metadata": {},
   "outputs": [
    {
     "ename": "AttributeError",
     "evalue": "module 'posixpath' has no attribute 'joing'",
     "output_type": "error",
     "traceback": [
      "\u001b[0;31m---------------------------------------------------------------------------\u001b[0m",
      "\u001b[0;31mAttributeError\u001b[0m                            Traceback (most recent call last)",
      "Cell \u001b[0;32mIn[7], line 7\u001b[0m\n\u001b[1;32m      1\u001b[0m \u001b[39m# First fit cross validation to see how performance is across folds\u001b[39;00m\n\u001b[1;32m      2\u001b[0m fit_clf(\n\u001b[1;32m      3\u001b[0m     model\u001b[39m=\u001b[39mmodule,\n\u001b[1;32m      4\u001b[0m     pos_fasta_path\u001b[39m=\u001b[39m\u001b[39m\"\u001b[39m\u001b[39mtraining/2023_12_19/seqdatasets/gkmSVM_dev_enhancers.fasta\u001b[39m\u001b[39m\"\u001b[39m,\n\u001b[1;32m      5\u001b[0m     neg_fasta_path\u001b[39m=\u001b[39m\u001b[39m\"\u001b[39m\u001b[39mtraining/2023_12_19/seqdatasets/gkmSVM_negatives.fasta\u001b[39m\u001b[39m\"\u001b[39m,\n\u001b[1;32m      6\u001b[0m     folds\u001b[39m=\u001b[39m\u001b[39m10\u001b[39m,\n\u001b[0;32m----> 7\u001b[0m     log_dir\u001b[39m=\u001b[39mos\u001b[39m.\u001b[39;49mpath\u001b[39m.\u001b[39;49mjoing(log_dir, \u001b[39m\"\u001b[39m\u001b[39mdev\u001b[39m\u001b[39m\"\u001b[39m, \u001b[39m\"\u001b[39m\u001b[39mcrossfold\u001b[39m\u001b[39m\"\u001b[39m),\n\u001b[1;32m      8\u001b[0m     prefix\u001b[39m=\u001b[39m\u001b[39m\"\u001b[39m\u001b[39mgkmSVM_dev\u001b[39m\u001b[39m\"\u001b[39m,\n\u001b[1;32m      9\u001b[0m )\n",
      "\u001b[0;31mAttributeError\u001b[0m: module 'posixpath' has no attribute 'joing'"
     ]
    }
   ],
   "source": [
    "# First fit cross validation to see how performance is across folds\n",
    "fit_clf(\n",
    "    model=module,\n",
    "    pos_fasta_path=\"training/2023_12_19/seqdatasets/gkmSVM_dev_enhancers.fasta\",\n",
    "    neg_fasta_path=\"training/2023_12_19/seqdatasets/gkmSVM_negatives.fasta\",\n",
    "    folds=10,\n",
    "    log_dir=os.path.join(log_dir, \"dev\", \"crossfold\"),\n",
    "    prefix=\"gkmSVM_dev\",\n",
    ")"
   ]
  },
  {
   "cell_type": "code",
   "execution_count": 8,
   "metadata": {},
   "outputs": [
    {
     "name": "stderr",
     "output_type": "stream",
     "text": [
      "2023-12-20 10:12:03 INFO     Running gkmtrain with command: gkmtrain training/2023_12_19/seqdatasets/gkmSVM_dev_enhancers.fasta training/2023_12_19/seqdatasets/gkmSVM_negatives.fasta models/2023_12_19/seqdatasets/gkmSVM/dev/full/gkmSVM -y 0 -t 0 -l 8 -k 5 -d 3 -e 0.001 -m 8000 -v 2 -T 4 -c 1.0 -w 1.0\n",
      "2023-12-20 10:43:49 INFO     Model fit, log file saved to models/2023_12_19/seqdatasets/gkmSVM/dev/full/gkmSVM_dev_fit.log\n"
     ]
    }
   ],
   "source": [
    "# Next just fit one model to the whole dataset\n",
    "fit_clf(\n",
    "    model=module,\n",
    "    pos_fasta_path=\"training/2023_12_19/seqdatasets/gkmSVM_dev_enhancers.fasta\",\n",
    "    neg_fasta_path=\"training/2023_12_19/seqdatasets/gkmSVM_negatives.fasta\",\n",
    "    log_dir=os.path.join(log_dir, \"dev\", \"full\"),\n",
    "    prefix=\"gkmSVM_dev\",\n",
    "    overwrite=True,\n",
    ")"
   ]
  },
  {
   "attachments": {},
   "cell_type": "markdown",
   "metadata": {},
   "source": [
    "# Housekeeping"
   ]
  },
  {
   "cell_type": "code",
   "execution_count": null,
   "metadata": {},
   "outputs": [],
   "source": [
    "# First fit cross validation to see how performance is across folds\n",
    "fit_clf(\n",
    "    model=module,\n",
    "    pos_fasta_path=\"training/2023_12_19/seqdatasets/gkmSVM_hk_enhancers.fasta\",\n",
    "    neg_fasta_path=\"training/2023_12_19/seqdatasets/gkmSVM_negatives.fasta\",\n",
    "    folds=10,\n",
    "    log_dir=os.path.join(log_dir, \"hk\", \"crossfold\"),\n",
    "    prefix=\"gkmSVM_hk\",\n",
    ")"
   ]
  },
  {
   "cell_type": "code",
   "execution_count": null,
   "metadata": {},
   "outputs": [],
   "source": [
    "# Next just fit one model to the whole dataset\n",
    "fit_clf(\n",
    "    model=module,\n",
    "    pos_fasta_path=\"training/2023_12_19/seqdatasets/gkmSVM_hk_enhancers.fasta\",\n",
    "    neg_fasta_path=\"training/2023_12_19/seqdatasets/gkmSVM_negatives.fasta\",\n",
    "    log_dir=os.path.join(log_dir, \"hk\", \"full\"),\n",
    "    prefix=\"gkmSVM_hk\",\n",
    "    overwrite=True,\n",
    ")"
   ]
  },
  {
   "attachments": {},
   "cell_type": "markdown",
   "metadata": {},
   "source": [
    "# DONE!"
   ]
  },
  {
   "attachments": {},
   "cell_type": "markdown",
   "metadata": {},
   "source": [
    "---"
   ]
  }
 ],
 "metadata": {
  "kernelspec": {
   "display_name": "Python 3.9 ml4gland",
   "language": "python",
   "name": "ml4gland"
  },
  "language_info": {
   "codemirror_mode": {
    "name": "ipython",
    "version": 3
   },
   "file_extension": ".py",
   "mimetype": "text/x-python",
   "name": "python",
   "nbconvert_exporter": "python",
   "pygments_lexer": "ipython3",
   "version": "3.9.16"
  },
  "orig_nbformat": 4
 },
 "nbformat": 4,
 "nbformat_minor": 2
}
